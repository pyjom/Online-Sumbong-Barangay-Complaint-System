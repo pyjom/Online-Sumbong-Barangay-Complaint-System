{
 "cells": [
  {
   "cell_type": "markdown",
   "id": "799361de",
   "metadata": {},
   "source": [
    "## **The Problem**"
   ]
  },
  {
   "cell_type": "markdown",
   "id": "b244bde3",
   "metadata": {},
   "source": [
    "In many barangays, residents struggle to formally report local issues due to lack of access, anonymity concerns, or unclear complaint channels. This results in unreported problems, delayed responses, and inefficient resource allocation.\n",
    "\n",
    "\n"
   ]
  },
  {
   "cell_type": "markdown",
   "id": "452ecfb2",
   "metadata": {},
   "source": [
    "According to my interview in one brgy secretary, there are only 3 to 5 complaints per month. The usual complaints are about money, credits and slander. Although rare, there are cases about land problem, physical injuries and motorcycle accidents"
   ]
  },
  {
   "cell_type": "markdown",
   "id": "26fa98d6",
   "metadata": {},
   "source": [
    "These are too little accounts of complaints and we can only assume for more possible complaints based on how we live and participate in our own barangays. "
   ]
  },
  {
   "cell_type": "markdown",
   "id": "d702dbf7",
   "metadata": {},
   "source": [
    "For example in our barangay, it is water inconsistency every 6am until 11am on weekdays, and 8am until 12 pm on weekends.\n",
    "Next is lack of public information or announcement to the programs and new services that can be avail in the barangay  "
   ]
  },
  {
   "cell_type": "markdown",
   "id": "21db4d20",
   "metadata": {},
   "source": [
    "Categories:\n",
    "1. Public Concern (garbage and sanitation)\n",
    "2. Public Concern (infrastructure issues)\n",
    "3. Public Concern (programs and services)\n",
    "4. Public Concern (community and financial disputes)\n",
    "5. Public Concern (security and safety)\n"
   ]
  },
  {
   "cell_type": "markdown",
   "id": "88a5d367",
   "metadata": {},
   "source": [
    "## **Objective**"
   ]
  },
  {
   "cell_type": "markdown",
   "id": "2d5cbfe3",
   "metadata": {},
   "source": [
    "To address the problem, I developed the Online Sumbong Complaint Classification System which is a machine learning-based tool that allows citizens to anonymously submit complaints in Tagalog, which are then automatically classified into predefined categories. This supports faster triage and aligns with ongoing efforts like the Barangay Tanod Tracker and Appointment System, enabling a more responsive local government."
   ]
  },
  {
   "cell_type": "markdown",
   "id": "95bcef23",
   "metadata": {},
   "source": [
    "## **Citation**"
   ]
  },
  {
   "cell_type": "markdown",
   "id": "ddb0ee66",
   "metadata": {},
   "source": [
    "This project uses XLM-RoBERTa, a multilingual transformer developed by Facebook AI (Conneau et al., 2019)."
   ]
  },
  {
   "cell_type": "markdown",
   "id": "1b3bb893",
   "metadata": {},
   "source": [
    "# **Data Preparation**"
   ]
  },
  {
   "cell_type": "markdown",
   "id": "081f54a4",
   "metadata": {},
   "source": [
    "I used gemino pro and deepseek r1 to generate high quality dataset.\n",
    "The independent variable is the complaint, while the dependent variable is the five possible categories. "
   ]
  },
  {
   "cell_type": "code",
   "execution_count": null,
   "id": "a7f67888",
   "metadata": {},
   "outputs": [],
   "source": [
    "import pandas as pd\n",
    "import numpy as np"
   ]
  },
  {
   "cell_type": "code",
   "execution_count": null,
   "id": "32c95d45",
   "metadata": {},
   "outputs": [],
   "source": [
    "df_1= pd.read_csv('new_translated_df.csv')"
   ]
  },
  {
   "cell_type": "code",
   "execution_count": null,
   "id": "d1c8eee2",
   "metadata": {},
   "outputs": [
    {
     "name": "stdout",
     "output_type": "stream",
     "text": [
      "(958, 2)\n"
     ]
    },
    {
     "data": {
      "text/html": [
       "<div>\n",
       "<style scoped>\n",
       "    .dataframe tbody tr th:only-of-type {\n",
       "        vertical-align: middle;\n",
       "    }\n",
       "\n",
       "    .dataframe tbody tr th {\n",
       "        vertical-align: top;\n",
       "    }\n",
       "\n",
       "    .dataframe thead th {\n",
       "        text-align: right;\n",
       "    }\n",
       "</style>\n",
       "<table border=\"1\" class=\"dataframe\">\n",
       "  <thead>\n",
       "    <tr style=\"text-align: right;\">\n",
       "      <th></th>\n",
       "      <th>complaint</th>\n",
       "      <th>label</th>\n",
       "    </tr>\n",
       "  </thead>\n",
       "  <tbody>\n",
       "    <tr>\n",
       "      <th>0</th>\n",
       "      <td>Kapitan, dalawang linggo nang hindi nakakakuha...</td>\n",
       "      <td>1</td>\n",
       "    </tr>\n",
       "    <tr>\n",
       "      <th>1</th>\n",
       "      <td>Ang kanal sa amin sa ilang kalye, clogged muli...</td>\n",
       "      <td>1</td>\n",
       "    </tr>\n",
       "    <tr>\n",
       "      <th>2</th>\n",
       "      <td>Mayroon kaming mga kapitbahay na itinapon lama...</td>\n",
       "      <td>1</td>\n",
       "    </tr>\n",
       "    <tr>\n",
       "      <th>3</th>\n",
       "      <td>Ang dami ng mga ipis at daga ay matindi dahil ...</td>\n",
       "      <td>1</td>\n",
       "    </tr>\n",
       "    <tr>\n",
       "      <th>4</th>\n",
       "      <td>Mangyaring kumilos sa dumi ng baka na nakakala...</td>\n",
       "      <td>1</td>\n",
       "    </tr>\n",
       "    <tr>\n",
       "      <th>...</th>\n",
       "      <td>...</td>\n",
       "      <td>...</td>\n",
       "    </tr>\n",
       "    <tr>\n",
       "      <th>953</th>\n",
       "      <td>Walang street lights papunta sa sementeryo. Na...</td>\n",
       "      <td>2</td>\n",
       "    </tr>\n",
       "    <tr>\n",
       "      <th>954</th>\n",
       "      <td>Yung health station po, walang kagamitan at la...</td>\n",
       "      <td>2</td>\n",
       "    </tr>\n",
       "    <tr>\n",
       "      <th>955</th>\n",
       "      <td>Sana po ayusin ang public library. Para po may...</td>\n",
       "      <td>2</td>\n",
       "    </tr>\n",
       "    <tr>\n",
       "      <th>956</th>\n",
       "      <td>Yung tulay na kawayan, inanod na ng baha. Paan...</td>\n",
       "      <td>2</td>\n",
       "    </tr>\n",
       "    <tr>\n",
       "      <th>957</th>\n",
       "      <td>Kailangan po ng maayos na cold storage facilit...</td>\n",
       "      <td>2</td>\n",
       "    </tr>\n",
       "  </tbody>\n",
       "</table>\n",
       "<p>958 rows × 2 columns</p>\n",
       "</div>"
      ],
      "text/plain": [
       "                                             complaint  label\n",
       "0    Kapitan, dalawang linggo nang hindi nakakakuha...      1\n",
       "1    Ang kanal sa amin sa ilang kalye, clogged muli...      1\n",
       "2    Mayroon kaming mga kapitbahay na itinapon lama...      1\n",
       "3    Ang dami ng mga ipis at daga ay matindi dahil ...      1\n",
       "4    Mangyaring kumilos sa dumi ng baka na nakakala...      1\n",
       "..                                                 ...    ...\n",
       "953  Walang street lights papunta sa sementeryo. Na...      2\n",
       "954  Yung health station po, walang kagamitan at la...      2\n",
       "955  Sana po ayusin ang public library. Para po may...      2\n",
       "956  Yung tulay na kawayan, inanod na ng baha. Paan...      2\n",
       "957  Kailangan po ng maayos na cold storage facilit...      2\n",
       "\n",
       "[958 rows x 2 columns]"
      ]
     },
     "execution_count": 32,
     "metadata": {},
     "output_type": "execute_result"
    }
   ],
   "source": [
    "print(df_1.shape)\n",
    "df_1"
   ]
  },
  {
   "cell_type": "code",
   "execution_count": null,
   "id": "fd2c150d",
   "metadata": {},
   "outputs": [
    {
     "data": {
      "text/html": [
       "<div>\n",
       "<style scoped>\n",
       "    .dataframe tbody tr th:only-of-type {\n",
       "        vertical-align: middle;\n",
       "    }\n",
       "\n",
       "    .dataframe tbody tr th {\n",
       "        vertical-align: top;\n",
       "    }\n",
       "\n",
       "    .dataframe thead th {\n",
       "        text-align: right;\n",
       "    }\n",
       "</style>\n",
       "<table border=\"1\" class=\"dataframe\">\n",
       "  <thead>\n",
       "    <tr style=\"text-align: right;\">\n",
       "      <th></th>\n",
       "      <th>complaint</th>\n",
       "      <th>label</th>\n",
       "      <th>category</th>\n",
       "    </tr>\n",
       "  </thead>\n",
       "  <tbody>\n",
       "    <tr>\n",
       "      <th>0</th>\n",
       "      <td>Kapitan, dalawang linggo nang hindi nakakakuha...</td>\n",
       "      <td>1</td>\n",
       "      <td>public concern (garbage and sanitation)</td>\n",
       "    </tr>\n",
       "    <tr>\n",
       "      <th>1</th>\n",
       "      <td>Ang kanal sa amin sa ilang kalye, clogged muli...</td>\n",
       "      <td>1</td>\n",
       "      <td>public concern (garbage and sanitation)</td>\n",
       "    </tr>\n",
       "    <tr>\n",
       "      <th>2</th>\n",
       "      <td>Mayroon kaming mga kapitbahay na itinapon lama...</td>\n",
       "      <td>1</td>\n",
       "      <td>public concern (garbage and sanitation)</td>\n",
       "    </tr>\n",
       "    <tr>\n",
       "      <th>3</th>\n",
       "      <td>Ang dami ng mga ipis at daga ay matindi dahil ...</td>\n",
       "      <td>1</td>\n",
       "      <td>public concern (garbage and sanitation)</td>\n",
       "    </tr>\n",
       "    <tr>\n",
       "      <th>4</th>\n",
       "      <td>Mangyaring kumilos sa dumi ng baka na nakakala...</td>\n",
       "      <td>1</td>\n",
       "      <td>public concern (garbage and sanitation)</td>\n",
       "    </tr>\n",
       "    <tr>\n",
       "      <th>...</th>\n",
       "      <td>...</td>\n",
       "      <td>...</td>\n",
       "      <td>...</td>\n",
       "    </tr>\n",
       "    <tr>\n",
       "      <th>953</th>\n",
       "      <td>Walang street lights papunta sa sementeryo. Na...</td>\n",
       "      <td>2</td>\n",
       "      <td>public concern (infrastructure issues)</td>\n",
       "    </tr>\n",
       "    <tr>\n",
       "      <th>954</th>\n",
       "      <td>Yung health station po, walang kagamitan at la...</td>\n",
       "      <td>2</td>\n",
       "      <td>public concern (infrastructure issues)</td>\n",
       "    </tr>\n",
       "    <tr>\n",
       "      <th>955</th>\n",
       "      <td>Sana po ayusin ang public library. Para po may...</td>\n",
       "      <td>2</td>\n",
       "      <td>public concern (infrastructure issues)</td>\n",
       "    </tr>\n",
       "    <tr>\n",
       "      <th>956</th>\n",
       "      <td>Yung tulay na kawayan, inanod na ng baha. Paan...</td>\n",
       "      <td>2</td>\n",
       "      <td>public concern (infrastructure issues)</td>\n",
       "    </tr>\n",
       "    <tr>\n",
       "      <th>957</th>\n",
       "      <td>Kailangan po ng maayos na cold storage facilit...</td>\n",
       "      <td>2</td>\n",
       "      <td>public concern (infrastructure issues)</td>\n",
       "    </tr>\n",
       "  </tbody>\n",
       "</table>\n",
       "<p>958 rows × 3 columns</p>\n",
       "</div>"
      ],
      "text/plain": [
       "                                             complaint  label  \\\n",
       "0    Kapitan, dalawang linggo nang hindi nakakakuha...      1   \n",
       "1    Ang kanal sa amin sa ilang kalye, clogged muli...      1   \n",
       "2    Mayroon kaming mga kapitbahay na itinapon lama...      1   \n",
       "3    Ang dami ng mga ipis at daga ay matindi dahil ...      1   \n",
       "4    Mangyaring kumilos sa dumi ng baka na nakakala...      1   \n",
       "..                                                 ...    ...   \n",
       "953  Walang street lights papunta sa sementeryo. Na...      2   \n",
       "954  Yung health station po, walang kagamitan at la...      2   \n",
       "955  Sana po ayusin ang public library. Para po may...      2   \n",
       "956  Yung tulay na kawayan, inanod na ng baha. Paan...      2   \n",
       "957  Kailangan po ng maayos na cold storage facilit...      2   \n",
       "\n",
       "                                    category  \n",
       "0    public concern (garbage and sanitation)  \n",
       "1    public concern (garbage and sanitation)  \n",
       "2    public concern (garbage and sanitation)  \n",
       "3    public concern (garbage and sanitation)  \n",
       "4    public concern (garbage and sanitation)  \n",
       "..                                       ...  \n",
       "953   public concern (infrastructure issues)  \n",
       "954   public concern (infrastructure issues)  \n",
       "955   public concern (infrastructure issues)  \n",
       "956   public concern (infrastructure issues)  \n",
       "957   public concern (infrastructure issues)  \n",
       "\n",
       "[958 rows x 3 columns]"
      ]
     },
     "execution_count": 34,
     "metadata": {},
     "output_type": "execute_result"
    }
   ],
   "source": [
    "label_map = {\n",
    "    0: 'public concern (community and financial disputes)',\n",
    "    1: 'public concern (garbage and sanitation)',\n",
    "    2:'public concern (infrastructure issues)',\n",
    "    3:\"public concern (programs and services)\", \n",
    "    4:\"public concern (security and safety)\"\n",
    "\n",
    "}\n",
    "\n",
    "df_1['category'] = df_1['label'].map(label_map)\n",
    "df_1"
   ]
  },
  {
   "cell_type": "code",
   "execution_count": null,
   "id": "cdbaa3e5",
   "metadata": {},
   "outputs": [],
   "source": [
    "del df_1['label']"
   ]
  },
  {
   "cell_type": "markdown",
   "id": "8b8b9e7b",
   "metadata": {},
   "source": [
    "Because of the initial accuracy of only 70%, i chose to add a little bit more dataset."
   ]
  },
  {
   "cell_type": "code",
   "execution_count": null,
   "id": "364219a9",
   "metadata": {},
   "outputs": [
    {
     "name": "stdout",
     "output_type": "stream",
     "text": [
      "category\n",
      "public concern (security and safety)                 9\n",
      "public concern (community and financial disputes)    9\n",
      "public concern (programs and services)               9\n",
      "public concern (infrastructure issues)               8\n",
      "public concern (garbage and sanitation)              5\n",
      "Name: count, dtype: int64\n"
     ]
    },
    {
     "data": {
      "text/html": [
       "<div>\n",
       "<style scoped>\n",
       "    .dataframe tbody tr th:only-of-type {\n",
       "        vertical-align: middle;\n",
       "    }\n",
       "\n",
       "    .dataframe tbody tr th {\n",
       "        vertical-align: top;\n",
       "    }\n",
       "\n",
       "    .dataframe thead th {\n",
       "        text-align: right;\n",
       "    }\n",
       "</style>\n",
       "<table border=\"1\" class=\"dataframe\">\n",
       "  <thead>\n",
       "    <tr style=\"text-align: right;\">\n",
       "      <th></th>\n",
       "      <th>complaint</th>\n",
       "      <th>category</th>\n",
       "    </tr>\n",
       "  </thead>\n",
       "  <tbody>\n",
       "    <tr>\n",
       "      <th>0</th>\n",
       "      <td>Kap, paki-check naman po yung poste ng ilaw sa...</td>\n",
       "      <td>public concern (security and safety)</td>\n",
       "    </tr>\n",
       "    <tr>\n",
       "      <th>1</th>\n",
       "      <td>May mga nag-iinuman na naman po sa kanto at na...</td>\n",
       "      <td>public concern (security and safety)</td>\n",
       "    </tr>\n",
       "    <tr>\n",
       "      <th>2</th>\n",
       "      <td>Inirereklamo ko po yung kapitbahay kong si Man...</td>\n",
       "      <td>public concern (community and financial disputes)</td>\n",
       "    </tr>\n",
       "    <tr>\n",
       "      <th>3</th>\n",
       "      <td>Good morning po. Gusto ko lang po sana i-follo...</td>\n",
       "      <td>public concern (programs and services)</td>\n",
       "    </tr>\n",
       "    <tr>\n",
       "      <th>4</th>\n",
       "      <td>Yung kalsada po sa amin sa may Purok 3, lubak-...</td>\n",
       "      <td>public concern (infrastructure issues)</td>\n",
       "    </tr>\n",
       "  </tbody>\n",
       "</table>\n",
       "</div>"
      ],
      "text/plain": [
       "                                           complaint  \\\n",
       "0  Kap, paki-check naman po yung poste ng ilaw sa...   \n",
       "1  May mga nag-iinuman na naman po sa kanto at na...   \n",
       "2  Inirereklamo ko po yung kapitbahay kong si Man...   \n",
       "3  Good morning po. Gusto ko lang po sana i-follo...   \n",
       "4  Yung kalsada po sa amin sa may Purok 3, lubak-...   \n",
       "\n",
       "                                            category  \n",
       "0               public concern (security and safety)  \n",
       "1               public concern (security and safety)  \n",
       "2  public concern (community and financial disputes)  \n",
       "3             public concern (programs and services)  \n",
       "4             public concern (infrastructure issues)  "
      ]
     },
     "execution_count": 39,
     "metadata": {},
     "output_type": "execute_result"
    }
   ],
   "source": [
    "df_2 = pd.read_csv('gemini_pro_3.csv')\n",
    "df_2['category'] = df_2['category'].str.lower()\n",
    "print(df_2['category'].value_counts())\n",
    "df_2.head()"
   ]
  },
  {
   "cell_type": "code",
   "execution_count": null,
   "id": "2512fbf4",
   "metadata": {},
   "outputs": [
    {
     "name": "stdout",
     "output_type": "stream",
     "text": [
      "category\n",
      "public concern (community and financial disputes)    9\n",
      "public concern (programs and services)               9\n",
      "public concern (infrastructure issues)               9\n",
      "public concern (security and safety)                 9\n",
      "public concern (garbage and sanitation)              9\n",
      "Name: count, dtype: int64\n"
     ]
    },
    {
     "data": {
      "text/html": [
       "<div>\n",
       "<style scoped>\n",
       "    .dataframe tbody tr th:only-of-type {\n",
       "        vertical-align: middle;\n",
       "    }\n",
       "\n",
       "    .dataframe tbody tr th {\n",
       "        vertical-align: top;\n",
       "    }\n",
       "\n",
       "    .dataframe thead th {\n",
       "        text-align: right;\n",
       "    }\n",
       "</style>\n",
       "<table border=\"1\" class=\"dataframe\">\n",
       "  <thead>\n",
       "    <tr style=\"text-align: right;\">\n",
       "      <th></th>\n",
       "      <th>complaint</th>\n",
       "      <th>category</th>\n",
       "    </tr>\n",
       "  </thead>\n",
       "  <tbody>\n",
       "    <tr>\n",
       "      <th>0</th>\n",
       "      <td>Yung kapitbahay namin, nagpapalabas ng malakas...</td>\n",
       "      <td>public concern (community and financial disputes)</td>\n",
       "    </tr>\n",
       "    <tr>\n",
       "      <th>1</th>\n",
       "      <td>Hindi maasikaso ang request ko para sa baranga...</td>\n",
       "      <td>public concern (programs and services)</td>\n",
       "    </tr>\n",
       "    <tr>\n",
       "      <th>2</th>\n",
       "      <td>May mga poste ng kuryente sa Gomez St. na halo...</td>\n",
       "      <td>public concern (infrastructure issues)</td>\n",
       "    </tr>\n",
       "    <tr>\n",
       "      <th>3</th>\n",
       "      <td>Wala man lang tanod na nagbabantay sa palengke...</td>\n",
       "      <td>public concern (security and safety)</td>\n",
       "    </tr>\n",
       "    <tr>\n",
       "      <th>4</th>\n",
       "      <td>Ang daming daga sa may basurahan malapit sa he...</td>\n",
       "      <td>public concern (garbage and sanitation)</td>\n",
       "    </tr>\n",
       "  </tbody>\n",
       "</table>\n",
       "</div>"
      ],
      "text/plain": [
       "                                           complaint  \\\n",
       "0  Yung kapitbahay namin, nagpapalabas ng malakas...   \n",
       "1  Hindi maasikaso ang request ko para sa baranga...   \n",
       "2  May mga poste ng kuryente sa Gomez St. na halo...   \n",
       "3  Wala man lang tanod na nagbabantay sa palengke...   \n",
       "4  Ang daming daga sa may basurahan malapit sa he...   \n",
       "\n",
       "                                            category  \n",
       "0  public concern (community and financial disputes)  \n",
       "1             public concern (programs and services)  \n",
       "2             public concern (infrastructure issues)  \n",
       "3               public concern (security and safety)  \n",
       "4            public concern (garbage and sanitation)  "
      ]
     },
     "execution_count": 52,
     "metadata": {},
     "output_type": "execute_result"
    }
   ],
   "source": [
    "df_3 = pd.read_csv('deepseek_new_3.csv')\n",
    "df_3['category'] = df_3['category'].str.lower()\n",
    "print(df_3['category'].value_counts())\n",
    "df_3.head()"
   ]
  },
  {
   "cell_type": "markdown",
   "id": "60182d9e",
   "metadata": {},
   "source": [
    "### **Joining the three df**"
   ]
  },
  {
   "cell_type": "code",
   "execution_count": null,
   "id": "6acda809",
   "metadata": {},
   "outputs": [],
   "source": [
    "df = pd.concat([df_1, df_2, df_3])"
   ]
  },
  {
   "cell_type": "markdown",
   "id": "5ece0f71",
   "metadata": {},
   "source": [
    "Note: I performed basic cleaning to the independent variable, like removing punctuations and stop words but it did not result from a better accuracy."
   ]
  },
  {
   "cell_type": "markdown",
   "id": "30144a1b",
   "metadata": {},
   "source": [
    "### **Converting the categories to numerical variables**"
   ]
  },
  {
   "cell_type": "markdown",
   "id": "f36b8c43",
   "metadata": {},
   "source": [
    "We can use the LabelEncoder() function from sklearn, but we can also just use simple python scripts to do it."
   ]
  },
  {
   "cell_type": "code",
   "execution_count": null,
   "id": "5ce890d1",
   "metadata": {},
   "outputs": [],
   "source": [
    "from sklearn.preprocessing import LabelEncoder\n",
    "from sklearn.model_selection import train_test_split\n",
    "\n",
    "# Encode labels\n",
    "label_encoder = LabelEncoder()\n",
    "df['label'] = label_encoder.fit_transform(df['category'])\n"
   ]
  },
  {
   "cell_type": "markdown",
   "id": "2659ebb0",
   "metadata": {},
   "source": [
    "Checking the distribution of the categories"
   ]
  },
  {
   "cell_type": "code",
   "execution_count": null,
   "id": "3884fe6e",
   "metadata": {},
   "outputs": [
    {
     "data": {
      "text/plain": [
       "label\n",
       "1    218\n",
       "2    214\n",
       "3    205\n",
       "4    204\n",
       "0    200\n",
       "Name: count, dtype: int64"
      ]
     },
     "execution_count": 57,
     "metadata": {},
     "output_type": "execute_result"
    }
   ],
   "source": [
    "df.label.value_counts()"
   ]
  },
  {
   "cell_type": "markdown",
   "id": "b714f70c",
   "metadata": {},
   "source": [
    "Making sure there is no duplicate"
   ]
  },
  {
   "cell_type": "code",
   "execution_count": null,
   "id": "2a659238",
   "metadata": {},
   "outputs": [],
   "source": [
    "df = df.drop_duplicates()"
   ]
  },
  {
   "cell_type": "code",
   "execution_count": null,
   "id": "731fc3a4",
   "metadata": {},
   "outputs": [
    {
     "name": "stdout",
     "output_type": "stream",
     "text": [
      "Original classification (ordered by their assigned number):\n",
      "['public concern (community and financial disputes)'\n",
      " 'public concern (garbage and sanitation)'\n",
      " 'public concern (infrastructure issues)'\n",
      " 'public concern (programs and services)'\n",
      " 'public concern (security and safety)']\n"
     ]
    }
   ],
   "source": [
    "original_classes = label_encoder.classes_\n",
    "print(\"Original categories (ordered by their assigned number):\")\n",
    "print(original_classes)"
   ]
  },
  {
   "cell_type": "markdown",
   "id": "821c8ac5",
   "metadata": {},
   "source": [
    "### **Splitting the dataset**"
   ]
  },
  {
   "cell_type": "markdown",
   "id": "84b2a95c",
   "metadata": {},
   "source": [
    "I split the dataset to the usual 80-20 method"
   ]
  },
  {
   "cell_type": "code",
   "execution_count": null,
   "id": "35e3c416",
   "metadata": {},
   "outputs": [],
   "source": [
    "train_df, val_df = train_test_split(df, test_size=0.2, random_state=42)"
   ]
  },
  {
   "cell_type": "code",
   "execution_count": null,
   "id": "3c31aa54",
   "metadata": {},
   "outputs": [
    {
     "data": {
      "text/plain": [
       "(832, 209)"
      ]
     },
     "execution_count": 60,
     "metadata": {},
     "output_type": "execute_result"
    }
   ],
   "source": [
    "len(train_df), len(val_df)"
   ]
  },
  {
   "cell_type": "markdown",
   "id": "8ed247d2",
   "metadata": {},
   "source": [
    "### **Importing the transformer model**"
   ]
  },
  {
   "cell_type": "markdown",
   "id": "93970902",
   "metadata": {},
   "source": [
    "I also used the bert-tagalog-based-uncased model, unfortunately it does not show a better result"
   ]
  },
  {
   "cell_type": "code",
   "execution_count": null,
   "id": "03b8168a",
   "metadata": {},
   "outputs": [],
   "source": [
    "from transformers import AutoTokenizer, AutoModelForSequenceClassification\n",
    "\n",
    "model_name = \"xlm-roberta-base\" \n",
    "model_name2 = \"jcblaise/bert-tagalog-base-uncased\"\n",
    "\n",
    "# Initialize tokenizer\n",
    "tokenizer = AutoTokenizer.from_pretrained(model_name)\n",
    "tokenizer2 = AutoTokenizer.from_pretrained(model_name2)"
   ]
  },
  {
   "cell_type": "markdown",
   "id": "55c1fdde",
   "metadata": {},
   "source": [
    "### **Creating a Pytorch Dataset**"
   ]
  },
  {
   "cell_type": "markdown",
   "id": "991f5a17",
   "metadata": {},
   "source": [
    "Converting the text based dataset to a torch dataset. As we know, the model can only understand numerical values (arrays/matrices)"
   ]
  },
  {
   "cell_type": "code",
   "execution_count": null,
   "id": "6c2f1b2c",
   "metadata": {},
   "outputs": [],
   "source": [
    "import torch\n",
    "from torch.utils.data import Dataset\n",
    "\n",
    "class ComplaintDataset(Dataset):\n",
    "    def __init__(self, texts, labels, tokenizer, max_length=128):\n",
    "        self.encodings = tokenizer(\n",
    "            texts.tolist(),\n",
    "            truncation=True,\n",
    "            padding=True,\n",
    "            max_length=max_length,\n",
    "            return_tensors=\"pt\"\n",
    "        )\n",
    "        self.labels = torch.tensor(labels.tolist())\n",
    "    \n",
    "    def __getitem__(self, idx):\n",
    "        return {\n",
    "            'input_ids': self.encodings['input_ids'][idx],\n",
    "            'attention_mask': self.encodings['attention_mask'][idx],\n",
    "            'labels': self.labels[idx]\n",
    "        }\n",
    "    \n",
    "    def __len__(self):\n",
    "        return len(self.labels)"
   ]
  },
  {
   "cell_type": "code",
   "execution_count": null,
   "id": "0f673561",
   "metadata": {},
   "outputs": [],
   "source": [
    "# Create datasets\n",
    "train_dataset = ComplaintDataset(\n",
    "    train_df['complaint'], \n",
    "    train_df['label'], \n",
    "    tokenizer\n",
    ")\n",
    "\n",
    "val_dataset = ComplaintDataset(\n",
    "    val_df['complaint'], \n",
    "    val_df['label'], \n",
    "    tokenizer\n",
    ")"
   ]
  },
  {
   "attachments": {
    "image.png": {
     "image/png": "[encoded data removed]"
    }
   },
   "cell_type": "markdown",
   "id": "f66751f9",
   "metadata": {},
   "source": [
    "![image.png](attachment:image.png)"
   ]
  },
  {
   "cell_type": "markdown",
   "id": "ea765a77",
   "metadata": {},
   "source": [
    "input_ids = these are the tokenized and encoded numbers from the original text/complaint\n",
    "\n",
    "attention_mask = tells the model what tokens need to be ignored or not\n",
    "\n",
    "labels = the category"
   ]
  },
  {
   "cell_type": "markdown",
   "id": "fdb718c6",
   "metadata": {},
   "source": [
    "### **Training the model**"
   ]
  },
  {
   "cell_type": "markdown",
   "id": "5ed765cb",
   "metadata": {},
   "source": [
    "We will use sklean metrics for the metrics calculation"
   ]
  },
  {
   "cell_type": "code",
   "execution_count": null,
   "id": "dc0f0e72",
   "metadata": {},
   "outputs": [],
   "source": [
    "from transformers import TrainingArguments, Trainer\n",
    "import numpy as np\n",
    "from sklearn.metrics import accuracy_score, f1_score, classification_report, accuracy_score, precision_recall_fscore_support\n",
    "\n",
    "def compute_metrics(eval_pred):\n",
    "    logits, labels = eval_pred\n",
    "    predictions = logits.argmax(axis=-1)\n",
    "\n",
    "    precision, recall, f1, _ = precision_recall_fscore_support(\n",
    "        labels, predictions, average='weighted'\n",
    "    )\n",
    "    acc = accuracy_score(labels, predictions)\n",
    "\n",
    "    # Report per category\n",
    "    target_names = label_encoder.classes_\n",
    "    print(\"\\n\" + classification_report(labels, predictions, target_names=target_names))\n",
    "\n",
    "    return {\n",
    "        'accuracy': acc,\n",
    "        'f1': f1,\n",
    "        'precision': precision,\n",
    "        'recall': recall,\n",
    "    }\n",
    "\n"
   ]
  },
  {
   "cell_type": "code",
   "execution_count": null,
   "id": "17bc723e",
   "metadata": {},
   "outputs": [],
   "source": [
    "# Training parameters\n",
    "training_args = TrainingArguments(\n",
    "    output_dir='./results',\n",
    "    num_train_epochs=10,\n",
    "    per_device_train_batch_size=16,\n",
    "    per_device_eval_batch_size=32,\n",
    "    learning_rate=2e-5,\n",
    "    weight_decay=0.01,\n",
    "    eval_strategy=\"epoch\",\n",
    "    save_strategy=\"epoch\",\n",
    "    logging_dir='./logs',\n",
    "    logging_steps=50,\n",
    "    load_best_model_at_end=True,\n",
    "    metric_for_best_model=\"f1\",\n",
    ")"
   ]
  },
  {
   "cell_type": "markdown",
   "id": "5ce9accb",
   "metadata": {},
   "source": [
    "Learning rate of **2e-5** = a small learning rate for a pre-trained model like xlm-roberta to prevent destroying the knowledge it already learned \n",
    "\n",
    "Weight Decay of **0.01** = Since we only have 800+ traning datasets, weight decay prevent the model for overfitting (model memorizes rather than generalizing). Although, 0.01 is the default"
   ]
  },
  {
   "cell_type": "markdown",
   "id": "3c4e2e8f",
   "metadata": {},
   "source": [
    "Model 1"
   ]
  },
  {
   "cell_type": "code",
   "execution_count": 66,
   "id": "aebeb878",
   "metadata": {},
   "outputs": [
    {
     "name": "stderr",
     "output_type": "stream",
     "text": [
      "Some weights of XLMRobertaForSequenceClassification were not initialized from the model checkpoint at xlm-roberta-base and are newly initialized: ['classifier.dense.bias', 'classifier.dense.weight', 'classifier.out_proj.bias', 'classifier.out_proj.weight']\n",
      "You should probably TRAIN this model on a down-stream task to be able to use it for predictions and inference.\n"
     ]
    }
   ],
   "source": [
    "# Initialize model\n",
    "model = AutoModelForSequenceClassification.from_pretrained(\n",
    "    model_name,\n",
    "    num_labels=len(label_encoder.classes_)\n",
    ")\n",
    "\n",
    "# Create trainer\n",
    "trainer = Trainer(\n",
    "    model=model,\n",
    "    args=training_args,\n",
    "    train_dataset=train_dataset,\n",
    "    eval_dataset=val_dataset,\n",
    "    compute_metrics=compute_metrics\n",
    ")\n"
   ]
  },
  {
   "cell_type": "markdown",
   "id": "a03956d0",
   "metadata": {},
   "source": [
    "Model 2"
   ]
  },
  {
   "cell_type": "code",
   "execution_count": 25,
   "id": "06c95f44",
   "metadata": {},
   "outputs": [
    {
     "name": "stderr",
     "output_type": "stream",
     "text": [
      "Some weights of BertForSequenceClassification were not initialized from the model checkpoint at jcblaise/bert-tagalog-base-uncased and are newly initialized: ['classifier.bias', 'classifier.weight']\n",
      "You should probably TRAIN this model on a down-stream task to be able to use it for predictions and inference.\n"
     ]
    }
   ],
   "source": [
    "# Initialize model\n",
    "model2 = AutoModelForSequenceClassification.from_pretrained(\n",
    "    model_name2,\n",
    "    num_labels=len(label_encoder.classes_)\n",
    ")\n",
    "\n",
    "# Create trainer\n",
    "trainer2 = Trainer(\n",
    "    model=model2,\n",
    "    args=training_args,\n",
    "    train_dataset=train_dataset,\n",
    "    eval_dataset=val_dataset,\n",
    "    compute_metrics=compute_metrics\n",
    ")\n"
   ]
  },
  {
   "cell_type": "code",
   "execution_count": 67,
   "id": "8890fa56",
   "metadata": {},
   "outputs": [
    {
     "name": "stderr",
     "output_type": "stream",
     "text": [
      "/Users/johnjomari/Documents/Jom/dep_project3/my_venv/lib/python3.13/site-packages/torch/utils/data/dataloader.py:683: UserWarning: 'pin_memory' argument is set as true but not supported on MPS now, then device pinned memory won't be used.\n",
      "  warnings.warn(warn_msg)\n"
     ]
    },
    {
     "data": {
      "text/html": [
       "\n",
       "    <div>\n",
       "      \n",
       "      <progress value='520' max='520' style='width:300px; height:20px; vertical-align: middle;'></progress>\n",
       "      [520/520 03:39, Epoch 10/10]\n",
       "    </div>\n",
       "    <table border=\"1\" class=\"dataframe\">\n",
       "  <thead>\n",
       " <tr style=\"text-align: left;\">\n",
       "      <th>Epoch</th>\n",
       "      <th>Training Loss</th>\n",
       "      <th>Validation Loss</th>\n",
       "      <th>Accuracy</th>\n",
       "      <th>F1</th>\n",
       "      <th>Precision</th>\n",
       "      <th>Recall</th>\n",
       "    </tr>\n",
       "  </thead>\n",
       "  <tbody>\n",
       "    <tr>\n",
       "      <td>1</td>\n",
       "      <td>1.572400</td>\n",
       "      <td>1.465764</td>\n",
       "      <td>0.306220</td>\n",
       "      <td>0.216197</td>\n",
       "      <td>0.332924</td>\n",
       "      <td>0.306220</td>\n",
       "    </tr>\n",
       "    <tr>\n",
       "      <td>2</td>\n",
       "      <td>1.320000</td>\n",
       "      <td>1.113632</td>\n",
       "      <td>0.574163</td>\n",
       "      <td>0.526314</td>\n",
       "      <td>0.698740</td>\n",
       "      <td>0.574163</td>\n",
       "    </tr>\n",
       "    <tr>\n",
       "      <td>3</td>\n",
       "      <td>0.934400</td>\n",
       "      <td>0.800586</td>\n",
       "      <td>0.741627</td>\n",
       "      <td>0.747014</td>\n",
       "      <td>0.791279</td>\n",
       "      <td>0.741627</td>\n",
       "    </tr>\n",
       "    <tr>\n",
       "      <td>4</td>\n",
       "      <td>0.649900</td>\n",
       "      <td>0.682624</td>\n",
       "      <td>0.779904</td>\n",
       "      <td>0.783288</td>\n",
       "      <td>0.807020</td>\n",
       "      <td>0.779904</td>\n",
       "    </tr>\n",
       "    <tr>\n",
       "      <td>5</td>\n",
       "      <td>0.577800</td>\n",
       "      <td>0.655233</td>\n",
       "      <td>0.779904</td>\n",
       "      <td>0.782754</td>\n",
       "      <td>0.804711</td>\n",
       "      <td>0.779904</td>\n",
       "    </tr>\n",
       "    <tr>\n",
       "      <td>6</td>\n",
       "      <td>0.441200</td>\n",
       "      <td>0.552207</td>\n",
       "      <td>0.842105</td>\n",
       "      <td>0.844376</td>\n",
       "      <td>0.850056</td>\n",
       "      <td>0.842105</td>\n",
       "    </tr>\n",
       "    <tr>\n",
       "      <td>7</td>\n",
       "      <td>0.367900</td>\n",
       "      <td>0.607801</td>\n",
       "      <td>0.827751</td>\n",
       "      <td>0.830566</td>\n",
       "      <td>0.845291</td>\n",
       "      <td>0.827751</td>\n",
       "    </tr>\n",
       "    <tr>\n",
       "      <td>8</td>\n",
       "      <td>0.269600</td>\n",
       "      <td>0.580754</td>\n",
       "      <td>0.846890</td>\n",
       "      <td>0.846457</td>\n",
       "      <td>0.848972</td>\n",
       "      <td>0.846890</td>\n",
       "    </tr>\n",
       "    <tr>\n",
       "      <td>9</td>\n",
       "      <td>0.195300</td>\n",
       "      <td>0.592023</td>\n",
       "      <td>0.832536</td>\n",
       "      <td>0.834181</td>\n",
       "      <td>0.838214</td>\n",
       "      <td>0.832536</td>\n",
       "    </tr>\n",
       "    <tr>\n",
       "      <td>10</td>\n",
       "      <td>0.230900</td>\n",
       "      <td>0.613438</td>\n",
       "      <td>0.846890</td>\n",
       "      <td>0.849240</td>\n",
       "      <td>0.858012</td>\n",
       "      <td>0.846890</td>\n",
       "    </tr>\n",
       "  </tbody>\n",
       "</table><p>"
      ],
      "text/plain": [
       "<IPython.core.display.HTML object>"
      ]
     },
     "metadata": {},
     "output_type": "display_data"
    },
    {
     "name": "stdout",
     "output_type": "stream",
     "text": [
      "\n",
      "                                                   precision    recall  f1-score   support\n",
      "\n",
      "public concern (community and financial disputes)       0.00      0.00      0.00        50\n",
      "          public concern (garbage and sanitation)       0.85      0.54      0.66        41\n",
      "           public concern (infrastructure issues)       0.67      0.05      0.10        39\n",
      "           public concern (programs and services)       0.00      0.00      0.00        39\n",
      "             public concern (security and safety)       0.22      1.00      0.36        40\n",
      "\n",
      "                                         accuracy                           0.31       209\n",
      "                                        macro avg       0.35      0.32      0.22       209\n",
      "                                     weighted avg       0.33      0.31      0.22       209\n",
      "\n"
     ]
    },
    {
     "name": "stderr",
     "output_type": "stream",
     "text": [
      "/Users/johnjomari/Documents/Jom/dep_project3/my_venv/lib/python3.13/site-packages/sklearn/metrics/_classification.py:1565: UndefinedMetricWarning: Precision is ill-defined and being set to 0.0 in labels with no predicted samples. Use `zero_division` parameter to control this behavior.\n",
      "  _warn_prf(average, modifier, f\"{metric.capitalize()} is\", len(result))\n",
      "/Users/johnjomari/Documents/Jom/dep_project3/my_venv/lib/python3.13/site-packages/sklearn/metrics/_classification.py:1565: UndefinedMetricWarning: Precision is ill-defined and being set to 0.0 in labels with no predicted samples. Use `zero_division` parameter to control this behavior.\n",
      "  _warn_prf(average, modifier, f\"{metric.capitalize()} is\", len(result))\n",
      "/Users/johnjomari/Documents/Jom/dep_project3/my_venv/lib/python3.13/site-packages/sklearn/metrics/_classification.py:1565: UndefinedMetricWarning: Precision is ill-defined and being set to 0.0 in labels with no predicted samples. Use `zero_division` parameter to control this behavior.\n",
      "  _warn_prf(average, modifier, f\"{metric.capitalize()} is\", len(result))\n",
      "/Users/johnjomari/Documents/Jom/dep_project3/my_venv/lib/python3.13/site-packages/sklearn/metrics/_classification.py:1565: UndefinedMetricWarning: Precision is ill-defined and being set to 0.0 in labels with no predicted samples. Use `zero_division` parameter to control this behavior.\n",
      "  _warn_prf(average, modifier, f\"{metric.capitalize()} is\", len(result))\n",
      "/Users/johnjomari/Documents/Jom/dep_project3/my_venv/lib/python3.13/site-packages/torch/utils/data/dataloader.py:683: UserWarning: 'pin_memory' argument is set as true but not supported on MPS now, then device pinned memory won't be used.\n",
      "  warnings.warn(warn_msg)\n"
     ]
    },
    {
     "name": "stdout",
     "output_type": "stream",
     "text": [
      "\n",
      "                                                   precision    recall  f1-score   support\n",
      "\n",
      "public concern (community and financial disputes)       1.00      0.08      0.15        50\n",
      "          public concern (garbage and sanitation)       0.79      0.76      0.78        41\n",
      "           public concern (infrastructure issues)       0.44      0.92      0.60        39\n",
      "           public concern (programs and services)       0.68      0.69      0.68        39\n",
      "             public concern (security and safety)       0.50      0.55      0.52        40\n",
      "\n",
      "                                         accuracy                           0.57       209\n",
      "                                        macro avg       0.68      0.60      0.55       209\n",
      "                                     weighted avg       0.70      0.57      0.53       209\n",
      "\n"
     ]
    },
    {
     "name": "stderr",
     "output_type": "stream",
     "text": [
      "/Users/johnjomari/Documents/Jom/dep_project3/my_venv/lib/python3.13/site-packages/torch/utils/data/dataloader.py:683: UserWarning: 'pin_memory' argument is set as true but not supported on MPS now, then device pinned memory won't be used.\n",
      "  warnings.warn(warn_msg)\n"
     ]
    },
    {
     "name": "stdout",
     "output_type": "stream",
     "text": [
      "\n",
      "                                                   precision    recall  f1-score   support\n",
      "\n",
      "public concern (community and financial disputes)       0.88      0.74      0.80        50\n",
      "          public concern (garbage and sanitation)       0.84      0.76      0.79        41\n",
      "           public concern (infrastructure issues)       0.52      0.95      0.67        39\n",
      "           public concern (programs and services)       0.90      0.72      0.80        39\n",
      "             public concern (security and safety)       0.79      0.55      0.65        40\n",
      "\n",
      "                                         accuracy                           0.74       209\n",
      "                                        macro avg       0.79      0.74      0.74       209\n",
      "                                     weighted avg       0.79      0.74      0.75       209\n",
      "\n"
     ]
    },
    {
     "name": "stderr",
     "output_type": "stream",
     "text": [
      "/Users/johnjomari/Documents/Jom/dep_project3/my_venv/lib/python3.13/site-packages/torch/utils/data/dataloader.py:683: UserWarning: 'pin_memory' argument is set as true but not supported on MPS now, then device pinned memory won't be used.\n",
      "  warnings.warn(warn_msg)\n"
     ]
    },
    {
     "name": "stdout",
     "output_type": "stream",
     "text": [
      "\n",
      "                                                   precision    recall  f1-score   support\n",
      "\n",
      "public concern (community and financial disputes)       0.89      0.78      0.83        50\n",
      "          public concern (garbage and sanitation)       0.87      0.80      0.84        41\n",
      "           public concern (infrastructure issues)       0.59      0.92      0.72        39\n",
      "           public concern (programs and services)       0.94      0.79      0.86        39\n",
      "             public concern (security and safety)       0.73      0.60      0.66        40\n",
      "\n",
      "                                         accuracy                           0.78       209\n",
      "                                        macro avg       0.80      0.78      0.78       209\n",
      "                                     weighted avg       0.81      0.78      0.78       209\n",
      "\n"
     ]
    },
    {
     "name": "stderr",
     "output_type": "stream",
     "text": [
      "/Users/johnjomari/Documents/Jom/dep_project3/my_venv/lib/python3.13/site-packages/torch/utils/data/dataloader.py:683: UserWarning: 'pin_memory' argument is set as true but not supported on MPS now, then device pinned memory won't be used.\n",
      "  warnings.warn(warn_msg)\n"
     ]
    },
    {
     "name": "stdout",
     "output_type": "stream",
     "text": [
      "\n",
      "                                                   precision    recall  f1-score   support\n",
      "\n",
      "public concern (community and financial disputes)       0.89      0.68      0.77        50\n",
      "          public concern (garbage and sanitation)       0.80      0.88      0.84        41\n",
      "           public concern (infrastructure issues)       0.70      0.90      0.79        39\n",
      "           public concern (programs and services)       1.00      0.77      0.87        39\n",
      "             public concern (security and safety)       0.61      0.70      0.65        40\n",
      "\n",
      "                                         accuracy                           0.78       209\n",
      "                                        macro avg       0.80      0.78      0.78       209\n",
      "                                     weighted avg       0.80      0.78      0.78       209\n",
      "\n"
     ]
    },
    {
     "name": "stderr",
     "output_type": "stream",
     "text": [
      "/Users/johnjomari/Documents/Jom/dep_project3/my_venv/lib/python3.13/site-packages/torch/utils/data/dataloader.py:683: UserWarning: 'pin_memory' argument is set as true but not supported on MPS now, then device pinned memory won't be used.\n",
      "  warnings.warn(warn_msg)\n"
     ]
    },
    {
     "name": "stdout",
     "output_type": "stream",
     "text": [
      "\n",
      "                                                   precision    recall  f1-score   support\n",
      "\n",
      "public concern (community and financial disputes)       0.91      0.84      0.88        50\n",
      "          public concern (garbage and sanitation)       0.88      0.88      0.88        41\n",
      "           public concern (infrastructure issues)       0.73      0.85      0.79        39\n",
      "           public concern (programs and services)       0.97      0.87      0.92        39\n",
      "             public concern (security and safety)       0.74      0.78      0.76        40\n",
      "\n",
      "                                         accuracy                           0.84       209\n",
      "                                        macro avg       0.85      0.84      0.84       209\n",
      "                                     weighted avg       0.85      0.84      0.84       209\n",
      "\n"
     ]
    },
    {
     "name": "stderr",
     "output_type": "stream",
     "text": [
      "/Users/johnjomari/Documents/Jom/dep_project3/my_venv/lib/python3.13/site-packages/torch/utils/data/dataloader.py:683: UserWarning: 'pin_memory' argument is set as true but not supported on MPS now, then device pinned memory won't be used.\n",
      "  warnings.warn(warn_msg)\n"
     ]
    },
    {
     "name": "stdout",
     "output_type": "stream",
     "text": [
      "\n",
      "                                                   precision    recall  f1-score   support\n",
      "\n",
      "public concern (community and financial disputes)       0.93      0.76      0.84        50\n",
      "          public concern (garbage and sanitation)       0.90      0.88      0.89        41\n",
      "           public concern (infrastructure issues)       0.69      0.92      0.79        39\n",
      "           public concern (programs and services)       0.97      0.85      0.90        39\n",
      "             public concern (security and safety)       0.71      0.75      0.73        40\n",
      "\n",
      "                                         accuracy                           0.83       209\n",
      "                                        macro avg       0.84      0.83      0.83       209\n",
      "                                     weighted avg       0.85      0.83      0.83       209\n",
      "\n"
     ]
    },
    {
     "name": "stderr",
     "output_type": "stream",
     "text": [
      "/Users/johnjomari/Documents/Jom/dep_project3/my_venv/lib/python3.13/site-packages/torch/utils/data/dataloader.py:683: UserWarning: 'pin_memory' argument is set as true but not supported on MPS now, then device pinned memory won't be used.\n",
      "  warnings.warn(warn_msg)\n"
     ]
    },
    {
     "name": "stdout",
     "output_type": "stream",
     "text": [
      "\n",
      "                                                   precision    recall  f1-score   support\n",
      "\n",
      "public concern (community and financial disputes)       0.87      0.90      0.88        50\n",
      "          public concern (garbage and sanitation)       0.90      0.88      0.89        41\n",
      "           public concern (infrastructure issues)       0.74      0.82      0.78        39\n",
      "           public concern (programs and services)       0.88      0.90      0.89        39\n",
      "             public concern (security and safety)       0.85      0.72      0.78        40\n",
      "\n",
      "                                         accuracy                           0.85       209\n",
      "                                        macro avg       0.85      0.84      0.84       209\n",
      "                                     weighted avg       0.85      0.85      0.85       209\n",
      "\n"
     ]
    },
    {
     "name": "stderr",
     "output_type": "stream",
     "text": [
      "/Users/johnjomari/Documents/Jom/dep_project3/my_venv/lib/python3.13/site-packages/torch/utils/data/dataloader.py:683: UserWarning: 'pin_memory' argument is set as true but not supported on MPS now, then device pinned memory won't be used.\n",
      "  warnings.warn(warn_msg)\n"
     ]
    },
    {
     "name": "stdout",
     "output_type": "stream",
     "text": [
      "\n",
      "                                                   precision    recall  f1-score   support\n",
      "\n",
      "public concern (community and financial disputes)       0.89      0.80      0.84        50\n",
      "          public concern (garbage and sanitation)       0.92      0.88      0.90        41\n",
      "           public concern (infrastructure issues)       0.76      0.82      0.79        39\n",
      "           public concern (programs and services)       0.90      0.90      0.90        39\n",
      "             public concern (security and safety)       0.70      0.78      0.74        40\n",
      "\n",
      "                                         accuracy                           0.83       209\n",
      "                                        macro avg       0.84      0.83      0.83       209\n",
      "                                     weighted avg       0.84      0.83      0.83       209\n",
      "\n"
     ]
    },
    {
     "name": "stderr",
     "output_type": "stream",
     "text": [
      "/Users/johnjomari/Documents/Jom/dep_project3/my_venv/lib/python3.13/site-packages/torch/utils/data/dataloader.py:683: UserWarning: 'pin_memory' argument is set as true but not supported on MPS now, then device pinned memory won't be used.\n",
      "  warnings.warn(warn_msg)\n"
     ]
    },
    {
     "name": "stdout",
     "output_type": "stream",
     "text": [
      "\n",
      "                                                   precision    recall  f1-score   support\n",
      "\n",
      "public concern (community and financial disputes)       0.93      0.80      0.86        50\n",
      "          public concern (garbage and sanitation)       0.92      0.88      0.90        41\n",
      "           public concern (infrastructure issues)       0.74      0.90      0.81        39\n",
      "           public concern (programs and services)       0.94      0.87      0.91        39\n",
      "             public concern (security and safety)       0.73      0.80      0.76        40\n",
      "\n",
      "                                         accuracy                           0.85       209\n",
      "                                        macro avg       0.85      0.85      0.85       209\n",
      "                                     weighted avg       0.86      0.85      0.85       209\n",
      "\n"
     ]
    },
    {
     "data": {
      "text/plain": [
       "TrainOutput(global_step=520, training_loss=0.6376938086289626, metrics={'train_runtime': 220.6185, 'train_samples_per_second': 37.712, 'train_steps_per_second': 2.357, 'total_flos': 205232151121920.0, 'train_loss': 0.6376938086289626, 'epoch': 10.0})"
      ]
     },
     "execution_count": 67,
     "metadata": {},
     "output_type": "execute_result"
    }
   ],
   "source": [
    "# Start training!\n",
    "trainer.train()"
   ]
  },
  {
   "cell_type": "code",
   "execution_count": null,
   "id": "01bd9387",
   "metadata": {},
   "outputs": [],
   "source": []
  },
  {
   "cell_type": "markdown",
   "id": "8f11afb9",
   "metadata": {},
   "source": [
    "## **Evaluating the result**"
   ]
  },
  {
   "cell_type": "code",
   "execution_count": null,
   "id": "121188ac",
   "metadata": {},
   "outputs": [
    {
     "name": "stderr",
     "output_type": "stream",
     "text": [
      "/Users/johnjomari/Documents/Jom/dep_project3/my_venv/lib/python3.13/site-packages/torch/utils/data/dataloader.py:683: UserWarning: 'pin_memory' argument is set as true but not supported on MPS now, then device pinned memory won't be used.\n",
      "  warnings.warn(warn_msg)\n"
     ]
    },
    {
     "data": {
      "text/html": [],
      "text/plain": [
       "<IPython.core.display.HTML object>"
      ]
     },
     "metadata": {},
     "output_type": "display_data"
    },
    {
     "name": "stdout",
     "output_type": "stream",
     "text": [
      "\n",
      "                                                   precision    recall  f1-score   support\n",
      "\n",
      "public concern (community and financial disputes)       0.93      0.80      0.86        50\n",
      "          public concern (garbage and sanitation)       0.92      0.88      0.90        41\n",
      "           public concern (infrastructure issues)       0.74      0.90      0.81        39\n",
      "           public concern (programs and services)       0.94      0.87      0.91        39\n",
      "             public concern (security and safety)       0.73      0.80      0.76        40\n",
      "\n",
      "                                         accuracy                           0.85       209\n",
      "                                        macro avg       0.85      0.85      0.85       209\n",
      "                                     weighted avg       0.86      0.85      0.85       209\n",
      "\n"
     ]
    }
   ],
   "source": [
    "pred_output = trainer.predict(val_dataset)\n",
    "\n",
    "y_pred = pred_output.predictions.argmax(axis=1)  \n",
    "y_true = pred_output.label_ids                  \n"
   ]
  },
  {
   "cell_type": "code",
   "execution_count": null,
   "id": "eee0eb3e",
   "metadata": {},
   "outputs": [
    {
     "data": {
      "image/png": "[encoded data removed]",
      "text/plain": [
       "<Figure size 1000x700 with 2 Axes>"
      ]
     },
     "metadata": {},
     "output_type": "display_data"
    }
   ],
   "source": [
    "from sklearn.metrics import confusion_matrix\n",
    "import seaborn as sns\n",
    "import matplotlib.pyplot as plt\n",
    "\n",
    "labels = original_classes  \n",
    "\n",
    "cm = confusion_matrix(y_true, y_pred)\n",
    "plt.figure(figsize=(10, 7))\n",
    "sns.heatmap(cm, annot=True, fmt='d', xticklabels=labels, yticklabels=labels, cmap=\"Blues\")\n",
    "plt.xlabel('Predicted')\n",
    "plt.ylabel('Actual')\n",
    "plt.title('Confusion Matrix - Complaint Categories')\n",
    "plt.xticks(rotation=90)\n",
    "plt.tight_layout()\n",
    "plt.show()\n"
   ]
  },
  {
   "cell_type": "code",
   "execution_count": 83,
   "id": "73475865",
   "metadata": {},
   "outputs": [
    {
     "data": {
      "text/plain": [
       "array([2, 3, 2, 4, 4, 2, 4, 3, 1, 4, 2, 0, 1, 4, 1, 4, 4, 2, 0, 3, 2, 4,\n",
       "       2, 2, 2, 3, 4, 2, 3, 1, 0, 1, 3, 0, 2, 1, 0, 0, 0, 2, 0, 4, 4, 2,\n",
       "       4, 4, 0, 4, 2, 1, 3, 3, 4, 1, 3, 1, 1, 1, 1, 4, 3, 2, 0, 4, 3, 1,\n",
       "       2, 1, 0, 3, 3, 0, 0, 4, 1, 3, 1, 3, 1, 3, 0, 1, 2, 2, 4, 1, 2, 1,\n",
       "       0, 2, 0, 3, 4, 2, 4, 3, 4, 4, 1, 0, 3, 4, 0, 1, 1, 1, 4, 4, 0, 2,\n",
       "       0, 1, 4, 0, 0, 4, 2, 0, 3, 2, 0, 2, 0, 0, 4, 1, 1, 4, 3, 0, 2, 2,\n",
       "       3, 2, 0, 0, 0, 4, 4, 2, 2, 0, 4, 1, 0, 2, 4, 3, 2, 1, 3, 3, 4, 1,\n",
       "       3, 0, 4, 2, 4, 1, 3, 1, 3, 2, 0, 1, 2, 2, 4, 4, 2, 1, 0, 2, 2, 3,\n",
       "       2, 4, 0, 3, 1, 3, 2, 0, 1, 3, 3, 1, 0, 3, 4, 4, 2, 3, 0, 2, 1, 3,\n",
       "       0, 4, 2, 4, 2, 0, 0, 0, 2, 1, 2])"
      ]
     },
     "execution_count": 83,
     "metadata": {},
     "output_type": "execute_result"
    }
   ],
   "source": [
    "y_pred"
   ]
  },
  {
   "cell_type": "code",
   "execution_count": 90,
   "id": "d0450fd6",
   "metadata": {},
   "outputs": [],
   "source": [
    "val_df['y_pred'] = y_pred\n",
    "val_df['y_true'] = y_true"
   ]
  },
  {
   "cell_type": "markdown",
   "id": "4679dab5",
   "metadata": {},
   "source": [
    "## **Manually evaluate the mislabeled complaints**"
   ]
  },
  {
   "cell_type": "code",
   "execution_count": 98,
   "id": "d83b6d19",
   "metadata": {},
   "outputs": [
    {
     "data": {
      "text/html": [
       "<div>\n",
       "<style scoped>\n",
       "    .dataframe tbody tr th:only-of-type {\n",
       "        vertical-align: middle;\n",
       "    }\n",
       "\n",
       "    .dataframe tbody tr th {\n",
       "        vertical-align: top;\n",
       "    }\n",
       "\n",
       "    .dataframe thead th {\n",
       "        text-align: right;\n",
       "    }\n",
       "</style>\n",
       "<table border=\"1\" class=\"dataframe\">\n",
       "  <thead>\n",
       "    <tr style=\"text-align: right;\">\n",
       "      <th></th>\n",
       "      <th>complaint</th>\n",
       "      <th>label</th>\n",
       "      <th>category</th>\n",
       "      <th>y_pred</th>\n",
       "      <th>y_true</th>\n",
       "    </tr>\n",
       "  </thead>\n",
       "  <tbody>\n",
       "    <tr>\n",
       "      <th>136</th>\n",
       "      <td>Mapanganib ang mga bata</td>\n",
       "      <td>4</td>\n",
       "      <td>public concern (security and safety)</td>\n",
       "      <td>2</td>\n",
       "      <td>4</td>\n",
       "    </tr>\n",
       "    <tr>\n",
       "      <th>629</th>\n",
       "      <td>walang programa para sa mga senior</td>\n",
       "      <td>3</td>\n",
       "      <td>public concern (programs and services)</td>\n",
       "      <td>3</td>\n",
       "      <td>3</td>\n",
       "    </tr>\n",
       "    <tr>\n",
       "      <th>184</th>\n",
       "      <td>Walang tubig sa CR ng Barangay</td>\n",
       "      <td>2</td>\n",
       "      <td>public concern (infrastructure issues)</td>\n",
       "      <td>2</td>\n",
       "      <td>2</td>\n",
       "    </tr>\n",
       "    <tr>\n",
       "      <th>31</th>\n",
       "      <td>May nagsabi na may nagbebenta ng mga gamot sa ...</td>\n",
       "      <td>4</td>\n",
       "      <td>public concern (security and safety)</td>\n",
       "      <td>4</td>\n",
       "      <td>4</td>\n",
       "    </tr>\n",
       "    <tr>\n",
       "      <th>679</th>\n",
       "      <td>sana may poste ng ilaw dito</td>\n",
       "      <td>2</td>\n",
       "      <td>public concern (infrastructure issues)</td>\n",
       "      <td>4</td>\n",
       "      <td>2</td>\n",
       "    </tr>\n",
       "    <tr>\n",
       "      <th>...</th>\n",
       "      <td>...</td>\n",
       "      <td>...</td>\n",
       "      <td>...</td>\n",
       "      <td>...</td>\n",
       "      <td>...</td>\n",
       "    </tr>\n",
       "    <tr>\n",
       "      <th>618</th>\n",
       "      <td>yung mga frat members nag-aaway</td>\n",
       "      <td>4</td>\n",
       "      <td>public concern (security and safety)</td>\n",
       "      <td>0</td>\n",
       "      <td>4</td>\n",
       "    </tr>\n",
       "    <tr>\n",
       "      <th>60</th>\n",
       "      <td>Magreklamo ako na ang aking kapitbahay ay pala...</td>\n",
       "      <td>0</td>\n",
       "      <td>public concern (community and financial disputes)</td>\n",
       "      <td>0</td>\n",
       "      <td>0</td>\n",
       "    </tr>\n",
       "    <tr>\n",
       "      <th>843</th>\n",
       "      <td>Yung hagdan papuntang barangay hall, sira-sira...</td>\n",
       "      <td>2</td>\n",
       "      <td>public concern (infrastructure issues)</td>\n",
       "      <td>2</td>\n",
       "      <td>2</td>\n",
       "    </tr>\n",
       "    <tr>\n",
       "      <th>15</th>\n",
       "      <td>Nagkalat ang basura sa tabi ng ilog. May nakit...</td>\n",
       "      <td>1</td>\n",
       "      <td>public concern (garbage and sanitation)</td>\n",
       "      <td>1</td>\n",
       "      <td>1</td>\n",
       "    </tr>\n",
       "    <tr>\n",
       "      <th>92</th>\n",
       "      <td>Ang pader ng sementeryo, ay gumuho. Kailangan ...</td>\n",
       "      <td>2</td>\n",
       "      <td>public concern (infrastructure issues)</td>\n",
       "      <td>2</td>\n",
       "      <td>2</td>\n",
       "    </tr>\n",
       "  </tbody>\n",
       "</table>\n",
       "<p>209 rows × 5 columns</p>\n",
       "</div>"
      ],
      "text/plain": [
       "                                             complaint  label  \\\n",
       "136                            Mapanganib ang mga bata      4   \n",
       "629                 walang programa para sa mga senior      3   \n",
       "184                     Walang tubig sa CR ng Barangay      2   \n",
       "31   May nagsabi na may nagbebenta ng mga gamot sa ...      4   \n",
       "679                        sana may poste ng ilaw dito      2   \n",
       "..                                                 ...    ...   \n",
       "618                    yung mga frat members nag-aaway      4   \n",
       "60   Magreklamo ako na ang aking kapitbahay ay pala...      0   \n",
       "843  Yung hagdan papuntang barangay hall, sira-sira...      2   \n",
       "15   Nagkalat ang basura sa tabi ng ilog. May nakit...      1   \n",
       "92   Ang pader ng sementeryo, ay gumuho. Kailangan ...      2   \n",
       "\n",
       "                                              category  y_pred  y_true  \n",
       "136               public concern (security and safety)       2       4  \n",
       "629             public concern (programs and services)       3       3  \n",
       "184             public concern (infrastructure issues)       2       2  \n",
       "31                public concern (security and safety)       4       4  \n",
       "679             public concern (infrastructure issues)       4       2  \n",
       "..                                                 ...     ...     ...  \n",
       "618               public concern (security and safety)       0       4  \n",
       "60   public concern (community and financial disputes)       0       0  \n",
       "843             public concern (infrastructure issues)       2       2  \n",
       "15             public concern (garbage and sanitation)       1       1  \n",
       "92              public concern (infrastructure issues)       2       2  \n",
       "\n",
       "[209 rows x 5 columns]"
      ]
     },
     "execution_count": 98,
     "metadata": {},
     "output_type": "execute_result"
    }
   ],
   "source": [
    "val_df"
   ]
  },
  {
   "cell_type": "code",
   "execution_count": 99,
   "id": "f09a8120",
   "metadata": {},
   "outputs": [
    {
     "data": {
      "text/html": [
       "<div>\n",
       "<style scoped>\n",
       "    .dataframe tbody tr th:only-of-type {\n",
       "        vertical-align: middle;\n",
       "    }\n",
       "\n",
       "    .dataframe tbody tr th {\n",
       "        vertical-align: top;\n",
       "    }\n",
       "\n",
       "    .dataframe thead th {\n",
       "        text-align: right;\n",
       "    }\n",
       "</style>\n",
       "<table border=\"1\" class=\"dataframe\">\n",
       "  <thead>\n",
       "    <tr style=\"text-align: right;\">\n",
       "      <th></th>\n",
       "      <th>complaint</th>\n",
       "      <th>label</th>\n",
       "      <th>category</th>\n",
       "      <th>y_pred</th>\n",
       "      <th>y_true</th>\n",
       "      <th>category_predicted</th>\n",
       "    </tr>\n",
       "  </thead>\n",
       "  <tbody>\n",
       "    <tr>\n",
       "      <th>136</th>\n",
       "      <td>Mapanganib ang mga bata</td>\n",
       "      <td>4</td>\n",
       "      <td>public concern (security and safety)</td>\n",
       "      <td>2</td>\n",
       "      <td>4</td>\n",
       "      <td>public concern (infrastructure issues)</td>\n",
       "    </tr>\n",
       "    <tr>\n",
       "      <th>629</th>\n",
       "      <td>walang programa para sa mga senior</td>\n",
       "      <td>3</td>\n",
       "      <td>public concern (programs and services)</td>\n",
       "      <td>3</td>\n",
       "      <td>3</td>\n",
       "      <td>public concern (programs and services)</td>\n",
       "    </tr>\n",
       "    <tr>\n",
       "      <th>184</th>\n",
       "      <td>Walang tubig sa CR ng Barangay</td>\n",
       "      <td>2</td>\n",
       "      <td>public concern (infrastructure issues)</td>\n",
       "      <td>2</td>\n",
       "      <td>2</td>\n",
       "      <td>public concern (infrastructure issues)</td>\n",
       "    </tr>\n",
       "    <tr>\n",
       "      <th>31</th>\n",
       "      <td>May nagsabi na may nagbebenta ng mga gamot sa ...</td>\n",
       "      <td>4</td>\n",
       "      <td>public concern (security and safety)</td>\n",
       "      <td>4</td>\n",
       "      <td>4</td>\n",
       "      <td>public concern (security and safety)</td>\n",
       "    </tr>\n",
       "    <tr>\n",
       "      <th>679</th>\n",
       "      <td>sana may poste ng ilaw dito</td>\n",
       "      <td>2</td>\n",
       "      <td>public concern (infrastructure issues)</td>\n",
       "      <td>4</td>\n",
       "      <td>2</td>\n",
       "      <td>public concern (security and safety)</td>\n",
       "    </tr>\n",
       "    <tr>\n",
       "      <th>...</th>\n",
       "      <td>...</td>\n",
       "      <td>...</td>\n",
       "      <td>...</td>\n",
       "      <td>...</td>\n",
       "      <td>...</td>\n",
       "      <td>...</td>\n",
       "    </tr>\n",
       "    <tr>\n",
       "      <th>618</th>\n",
       "      <td>yung mga frat members nag-aaway</td>\n",
       "      <td>4</td>\n",
       "      <td>public concern (security and safety)</td>\n",
       "      <td>0</td>\n",
       "      <td>4</td>\n",
       "      <td>public concern (community and financial disputes)</td>\n",
       "    </tr>\n",
       "    <tr>\n",
       "      <th>60</th>\n",
       "      <td>Magreklamo ako na ang aking kapitbahay ay pala...</td>\n",
       "      <td>0</td>\n",
       "      <td>public concern (community and financial disputes)</td>\n",
       "      <td>0</td>\n",
       "      <td>0</td>\n",
       "      <td>public concern (community and financial disputes)</td>\n",
       "    </tr>\n",
       "    <tr>\n",
       "      <th>843</th>\n",
       "      <td>Yung hagdan papuntang barangay hall, sira-sira...</td>\n",
       "      <td>2</td>\n",
       "      <td>public concern (infrastructure issues)</td>\n",
       "      <td>2</td>\n",
       "      <td>2</td>\n",
       "      <td>public concern (infrastructure issues)</td>\n",
       "    </tr>\n",
       "    <tr>\n",
       "      <th>15</th>\n",
       "      <td>Nagkalat ang basura sa tabi ng ilog. May nakit...</td>\n",
       "      <td>1</td>\n",
       "      <td>public concern (garbage and sanitation)</td>\n",
       "      <td>1</td>\n",
       "      <td>1</td>\n",
       "      <td>public concern (garbage and sanitation)</td>\n",
       "    </tr>\n",
       "    <tr>\n",
       "      <th>92</th>\n",
       "      <td>Ang pader ng sementeryo, ay gumuho. Kailangan ...</td>\n",
       "      <td>2</td>\n",
       "      <td>public concern (infrastructure issues)</td>\n",
       "      <td>2</td>\n",
       "      <td>2</td>\n",
       "      <td>public concern (infrastructure issues)</td>\n",
       "    </tr>\n",
       "  </tbody>\n",
       "</table>\n",
       "<p>209 rows × 6 columns</p>\n",
       "</div>"
      ],
      "text/plain": [
       "                                             complaint  label  \\\n",
       "136                            Mapanganib ang mga bata      4   \n",
       "629                 walang programa para sa mga senior      3   \n",
       "184                     Walang tubig sa CR ng Barangay      2   \n",
       "31   May nagsabi na may nagbebenta ng mga gamot sa ...      4   \n",
       "679                        sana may poste ng ilaw dito      2   \n",
       "..                                                 ...    ...   \n",
       "618                    yung mga frat members nag-aaway      4   \n",
       "60   Magreklamo ako na ang aking kapitbahay ay pala...      0   \n",
       "843  Yung hagdan papuntang barangay hall, sira-sira...      2   \n",
       "15   Nagkalat ang basura sa tabi ng ilog. May nakit...      1   \n",
       "92   Ang pader ng sementeryo, ay gumuho. Kailangan ...      2   \n",
       "\n",
       "                                              category  y_pred  y_true  \\\n",
       "136               public concern (security and safety)       2       4   \n",
       "629             public concern (programs and services)       3       3   \n",
       "184             public concern (infrastructure issues)       2       2   \n",
       "31                public concern (security and safety)       4       4   \n",
       "679             public concern (infrastructure issues)       4       2   \n",
       "..                                                 ...     ...     ...   \n",
       "618               public concern (security and safety)       0       4   \n",
       "60   public concern (community and financial disputes)       0       0   \n",
       "843             public concern (infrastructure issues)       2       2   \n",
       "15             public concern (garbage and sanitation)       1       1   \n",
       "92              public concern (infrastructure issues)       2       2   \n",
       "\n",
       "                                    category_predicted  \n",
       "136             public concern (infrastructure issues)  \n",
       "629             public concern (programs and services)  \n",
       "184             public concern (infrastructure issues)  \n",
       "31                public concern (security and safety)  \n",
       "679               public concern (security and safety)  \n",
       "..                                                 ...  \n",
       "618  public concern (community and financial disputes)  \n",
       "60   public concern (community and financial disputes)  \n",
       "843             public concern (infrastructure issues)  \n",
       "15             public concern (garbage and sanitation)  \n",
       "92              public concern (infrastructure issues)  \n",
       "\n",
       "[209 rows x 6 columns]"
      ]
     },
     "execution_count": 99,
     "metadata": {},
     "output_type": "execute_result"
    }
   ],
   "source": [
    "label_map = {\n",
    "    0: 'public concern (community and financial disputes)',\n",
    "    1: 'public concern (garbage and sanitation)',\n",
    "    2:'public concern (infrastructure issues)',\n",
    "    3:\"public concern (programs and services)\", \n",
    "    4:\"public concern (security and safety)\"\n",
    "\n",
    "}\n",
    "\n",
    "val_df['category_predicted'] = val_df['y_pred'].map(label_map)\n",
    "val_df"
   ]
  },
  {
   "cell_type": "code",
   "execution_count": 100,
   "id": "638535df",
   "metadata": {},
   "outputs": [],
   "source": [
    "del val_df['label']\n",
    "del val_df['y_pred']\n",
    "del val_df['y_true']\n"
   ]
  },
  {
   "cell_type": "code",
   "execution_count": 102,
   "id": "33140019",
   "metadata": {},
   "outputs": [],
   "source": [
    "mislabelled_dataset = val_df[val_df['category'] != val_df['category_predicted'] ]\n",
    "mislabelled_dataset.to_csv('mislabelled_dataset.csv', index=False)"
   ]
  },
  {
   "cell_type": "markdown",
   "id": "3013441c",
   "metadata": {},
   "source": [
    "### **Result of the investigation**"
   ]
  },
  {
   "cell_type": "markdown",
   "id": "0bba3438",
   "metadata": {},
   "source": [
    "The 32 mislabeled complaints actually does make sense in the real world. For example "
   ]
  },
  {
   "cell_type": "markdown",
   "id": "210bc042",
   "metadata": {},
   "source": [
    "**Complaint**: \"Kap, paki-check naman po yung poste ng ilaw sa dulo ng kalye, matagal nang pundi. Delikado po sa mga umuuwi ng gabi.\"\t\n",
    "\n",
    "**Correct Category**: public concern (security and safety)\t\n",
    "\n",
    "\n",
    "***Predicted Category***: public concern (infrastructure issues)"
   ]
  },
  {
   "cell_type": "markdown",
   "id": "f2537a9f",
   "metadata": {},
   "source": [
    "While the complaint mentions safety concerns ('Delikado sa gabi'), the root cause of the problem is the broken streetlight, which is an infrastructure issue. Therefore, the model's prediction is still logically justifiable, even if it doesn't exactly match the labeled category."
   ]
  },
  {
   "cell_type": "markdown",
   "id": "7218a0db",
   "metadata": {},
   "source": [
    "This illustrates that some misclassifications are not truly \"wrong\" — rather, they reflect overlapping themes in real-world complaints."
   ]
  },
  {
   "cell_type": "markdown",
   "id": "28fba8cb",
   "metadata": {},
   "source": [
    "### **Trying out the model!**"
   ]
  },
  {
   "cell_type": "code",
   "execution_count": null,
   "id": "f8d65609",
   "metadata": {},
   "outputs": [],
   "source": [
    "from transformers import AutoTokenizer\n",
    "import torch\n",
    "\n",
    "# Sample complaint\n",
    "text = \"Sa tinngin ko dapat bawasan natin yung mga turista kasi di nila alam magtapon sa tamang basurahan, ang iingay pa nila\"\n",
    "\n",
    "# Tokenize\n",
    "inputs = tokenizer(\n",
    "    text,\n",
    "    truncation=True,\n",
    "    padding=True,\n",
    "    return_tensors=\"pt\"\n",
    ").to(model.device)\n"
   ]
  },
  {
   "cell_type": "code",
   "execution_count": 114,
   "id": "a90cc8d2",
   "metadata": {},
   "outputs": [],
   "source": [
    "# Make prediction\n",
    "model.eval()\n",
    "with torch.no_grad():\n",
    "    outputs = model(**inputs)\n",
    "    logits = outputs.logits\n",
    "    predicted_class_id = logits.argmax(dim=-1).item()\n"
   ]
  },
  {
   "cell_type": "code",
   "execution_count": 115,
   "id": "421567b6",
   "metadata": {},
   "outputs": [
    {
     "name": "stdout",
     "output_type": "stream",
     "text": [
      "Predicted category: public concern (garbage and sanitation)\n"
     ]
    }
   ],
   "source": [
    "predicted_label = label_encoder.inverse_transform([predicted_class_id])[0]\n",
    "print(f\"Predicted category: {predicted_label}\")\n"
   ]
  },
  {
   "cell_type": "markdown",
   "id": "5673a286",
   "metadata": {},
   "source": [
    "Putting it inside a function instead:"
   ]
  },
  {
   "cell_type": "code",
   "execution_count": 116,
   "id": "3043d836",
   "metadata": {},
   "outputs": [],
   "source": [
    "def classify_complaint(text):\n",
    "    inputs = tokenizer(text, truncation=True, padding=True, return_tensors=\"pt\").to(model.device)\n",
    "    with torch.no_grad():\n",
    "        logits = model(**inputs).logits\n",
    "        class_id = logits.argmax(dim=-1).item()\n",
    "    return label_encoder.inverse_transform([class_id])[0]\n"
   ]
  },
  {
   "cell_type": "code",
   "execution_count": 118,
   "id": "e2a860c6",
   "metadata": {},
   "outputs": [
    {
     "data": {
      "text/plain": [
       "'public concern (garbage and sanitation)'"
      ]
     },
     "execution_count": 118,
     "metadata": {},
     "output_type": "execute_result"
    }
   ],
   "source": [
    "classify_complaint(\"Sa tinngin ko dapat bawasan natin yung mga turista kasi di nila alam magtapon sa tamang basurahan, ang iingay pa nila\")\n"
   ]
  },
  {
   "cell_type": "markdown",
   "id": "28f47fc3",
   "metadata": {},
   "source": [
    "## **Saving the model**"
   ]
  },
  {
   "cell_type": "code",
   "execution_count": 119,
   "id": "c7a1ab38",
   "metadata": {},
   "outputs": [
    {
     "data": {
      "text/plain": [
       "('saved_model/tokenizer_config.json',\n",
       " 'saved_model/special_tokens_map.json',\n",
       " 'saved_model/tokenizer.json')"
      ]
     },
     "execution_count": 119,
     "metadata": {},
     "output_type": "execute_result"
    }
   ],
   "source": [
    "# Save model and tokenizer\n",
    "model.save_pretrained(\"saved_model\")\n",
    "tokenizer.save_pretrained(\"saved_model\")\n"
   ]
  },
  {
   "cell_type": "code",
   "execution_count": 120,
   "id": "0fd77ad8",
   "metadata": {},
   "outputs": [
    {
     "data": {
      "text/plain": [
       "['saved_model/label_encoder.pkl']"
      ]
     },
     "execution_count": 120,
     "metadata": {},
     "output_type": "execute_result"
    }
   ],
   "source": [
    "import joblib\n",
    "\n",
    "joblib.dump(label_encoder, \"saved_model/label_encoder.pkl\")\n"
   ]
  },
  {
   "cell_type": "code",
   "execution_count": null,
   "id": "09d4f513",
   "metadata": {},
   "outputs": [],
   "source": []
  },
  {
   "cell_type": "code",
   "execution_count": null,
   "id": "ca43157f",
   "metadata": {},
   "outputs": [],
   "source": []
  },
  {
   "cell_type": "code",
   "execution_count": null,
   "id": "82509940",
   "metadata": {},
   "outputs": [],
   "source": []
  }
 ],
 "metadata": {
  "kernelspec": {
   "display_name": "my_venv",
   "language": "python",
   "name": "python3"
  },
  "language_info": {
   "codemirror_mode": {
    "name": "ipython",
    "version": 3
   },
   "file_extension": ".py",
   "mimetype": "text/x-python",
   "name": "python",
   "nbconvert_exporter": "python",
   "pygments_lexer": "ipython3",
   "version": "3.13.3"
  }
 },
 "nbformat": 4,
 "nbformat_minor": 5
}
